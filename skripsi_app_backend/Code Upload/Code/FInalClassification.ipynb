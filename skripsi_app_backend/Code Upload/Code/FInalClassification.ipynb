{
 "cells": [
  {
   "cell_type": "code",
   "execution_count": 1,
   "metadata": {},
   "outputs": [],
   "source": [
    "import cv2\n",
    "import numpy as np\n",
    "import pandas as pd\n",
    "import joblib"
   ]
  },
  {
   "cell_type": "code",
   "execution_count": 2,
   "metadata": {},
   "outputs": [],
   "source": [
    "def preprocessing(image):\n",
    "    \n",
    "    # inisialisasi ukuran resize\n",
    "    width, height = 1080, 1920\n",
    "\n",
    "    # melakukan resize pada file\n",
    "    image = cv2.resize(image, (width, height),\n",
    "                    interpolation=cv2.INTER_AREA)\n",
    "    # melakukan cropping pada file\n",
    "    image = image[420:1500, 0:1080]\n",
    "    \n",
    "    return image\n"
   ]
  },
  {
   "cell_type": "code",
   "execution_count": 3,
   "metadata": {},
   "outputs": [],
   "source": [
    "def extract_features(preprocessed_image):\n",
    "\n",
    "    # mengubah gambar ke dalam format HSV\n",
    "    hsv = cv2.cvtColor(preprocessed_image, cv2.COLOR_BGR2HSV)\n",
    "\n",
    "    # mengambil nilai hue (H) dari gambar\n",
    "    hue = hsv[:, :, 0]\n",
    "\n",
    "    # mengambil nilai saturation (S) dari gambar\n",
    "    saturation = hsv[:, :, 1]\n",
    "\n",
    "    # mengambil nilai value (V) dari gambar\n",
    "    value = hsv[:, :, 2]\n",
    "\n",
    "    # membuat list untuk menyimpan hasil ekstraksi fitur\n",
    "    features = []\n",
    "\n",
    "    # menambahkan nilai H ke dalam list\n",
    "    features.append(np.mean(hue))\n",
    "\n",
    "    # menambahkan nilai S ke dalam list\n",
    "    features.append(np.mean(saturation))\n",
    "\n",
    "    # menambahkan nilai V ke dalam list\n",
    "    features.append(np.mean(value))\n",
    "\n",
    "    return features\n"
   ]
  },
  {
   "cell_type": "code",
   "execution_count": 4,
   "metadata": {},
   "outputs": [],
   "source": [
    "from sklearn.metrics import accuracy_score, classification_report\n",
    "\n",
    "\n",
    "def classify(image):\n",
    "    # Load pre-trained model\n",
    "    nb = joblib.load('../Model/NaiveBayes.pkl')\n",
    "    \n",
    "    image = cv2.imread(image)\n",
    "    \n",
    "    # Preprocess image\n",
    "    img_array = preprocessing(image)\n",
    "    \n",
    "    # Extract features\n",
    "    X = extract_features(img_array)\n",
    "    \n",
    "    # Predict label\n",
    "    y_pred = nb.predict([X])\n",
    "    \n",
    "    # Print label\n",
    "    print(f'Label: {y_pred[0]}')\n",
    "    \n",
    "    # Load true label\n",
    "    df = pd.read_csv('hasil_ekstraksi_rata2_hsv.csv')\n",
    "    y_true = df['label']\n",
    "    \n",
    "    # Print accuracy and precision\n",
    "    print(classification_report(y_true, y_pred))\n",
    "    print(f'Accuracy: {accuracy_score(y_true, y_pred)}')"
   ]
  },
  {
   "cell_type": "code",
   "execution_count": 5,
   "metadata": {},
   "outputs": [
    {
     "ename": "error",
     "evalue": "OpenCV(4.6.0) D:\\a\\opencv-python\\opencv-python\\opencv\\modules\\imgproc\\src\\resize.cpp:4052: error: (-215:Assertion failed) !ssize.empty() in function 'cv::resize'\n",
     "output_type": "error",
     "traceback": [
      "\u001b[1;31m---------------------------------------------------------------------------\u001b[0m",
      "\u001b[1;31merror\u001b[0m                                     Traceback (most recent call last)",
      "\u001b[1;32md:\\Skripsi\\Build Apps\\skripsi_app_backend\\Code Upload\\Code\\FInalClassification.ipynb Cell 5\u001b[0m in \u001b[0;36m<cell line: 2>\u001b[1;34m()\u001b[0m\n\u001b[0;32m      <a href='vscode-notebook-cell:/d%3A/Skripsi/Build%20Apps/skripsi_app_backend/Code%20Upload/Code/FInalClassification.ipynb#W4sZmlsZQ%3D%3D?line=0'>1</a>\u001b[0m \u001b[39m# Call classify function with image path\u001b[39;00m\n\u001b[1;32m----> <a href='vscode-notebook-cell:/d%3A/Skripsi/Build%20Apps/skripsi_app_backend/Code%20Upload/Code/FInalClassification.ipynb#W4sZmlsZQ%3D%3D?line=1'>2</a>\u001b[0m classify(\u001b[39m'\u001b[39;49m\u001b[39mtest_image_2.jpg\u001b[39;49m\u001b[39m'\u001b[39;49m)\n",
      "\u001b[1;32md:\\Skripsi\\Build Apps\\skripsi_app_backend\\Code Upload\\Code\\FInalClassification.ipynb Cell 5\u001b[0m in \u001b[0;36mclassify\u001b[1;34m(image)\u001b[0m\n\u001b[0;32m      <a href='vscode-notebook-cell:/d%3A/Skripsi/Build%20Apps/skripsi_app_backend/Code%20Upload/Code/FInalClassification.ipynb#W4sZmlsZQ%3D%3D?line=7'>8</a>\u001b[0m image \u001b[39m=\u001b[39m cv2\u001b[39m.\u001b[39mimread(image)\n\u001b[0;32m     <a href='vscode-notebook-cell:/d%3A/Skripsi/Build%20Apps/skripsi_app_backend/Code%20Upload/Code/FInalClassification.ipynb#W4sZmlsZQ%3D%3D?line=9'>10</a>\u001b[0m \u001b[39m# Preprocess image\u001b[39;00m\n\u001b[1;32m---> <a href='vscode-notebook-cell:/d%3A/Skripsi/Build%20Apps/skripsi_app_backend/Code%20Upload/Code/FInalClassification.ipynb#W4sZmlsZQ%3D%3D?line=10'>11</a>\u001b[0m img_array \u001b[39m=\u001b[39m preprocessing(image)\n\u001b[0;32m     <a href='vscode-notebook-cell:/d%3A/Skripsi/Build%20Apps/skripsi_app_backend/Code%20Upload/Code/FInalClassification.ipynb#W4sZmlsZQ%3D%3D?line=12'>13</a>\u001b[0m \u001b[39m# Extract features\u001b[39;00m\n\u001b[0;32m     <a href='vscode-notebook-cell:/d%3A/Skripsi/Build%20Apps/skripsi_app_backend/Code%20Upload/Code/FInalClassification.ipynb#W4sZmlsZQ%3D%3D?line=13'>14</a>\u001b[0m X \u001b[39m=\u001b[39m extract_features(img_array)\n",
      "\u001b[1;32md:\\Skripsi\\Build Apps\\skripsi_app_backend\\Code Upload\\Code\\FInalClassification.ipynb Cell 5\u001b[0m in \u001b[0;36mpreprocessing\u001b[1;34m(image)\u001b[0m\n\u001b[0;32m      <a href='vscode-notebook-cell:/d%3A/Skripsi/Build%20Apps/skripsi_app_backend/Code%20Upload/Code/FInalClassification.ipynb#W4sZmlsZQ%3D%3D?line=3'>4</a>\u001b[0m width, height \u001b[39m=\u001b[39m \u001b[39m1080\u001b[39m, \u001b[39m1920\u001b[39m\n\u001b[0;32m      <a href='vscode-notebook-cell:/d%3A/Skripsi/Build%20Apps/skripsi_app_backend/Code%20Upload/Code/FInalClassification.ipynb#W4sZmlsZQ%3D%3D?line=5'>6</a>\u001b[0m \u001b[39m# melakukan resize pada file\u001b[39;00m\n\u001b[1;32m----> <a href='vscode-notebook-cell:/d%3A/Skripsi/Build%20Apps/skripsi_app_backend/Code%20Upload/Code/FInalClassification.ipynb#W4sZmlsZQ%3D%3D?line=6'>7</a>\u001b[0m image \u001b[39m=\u001b[39m cv2\u001b[39m.\u001b[39;49mresize(image, (width, height),\n\u001b[0;32m      <a href='vscode-notebook-cell:/d%3A/Skripsi/Build%20Apps/skripsi_app_backend/Code%20Upload/Code/FInalClassification.ipynb#W4sZmlsZQ%3D%3D?line=7'>8</a>\u001b[0m                 interpolation\u001b[39m=\u001b[39;49mcv2\u001b[39m.\u001b[39;49mINTER_AREA)\n\u001b[0;32m      <a href='vscode-notebook-cell:/d%3A/Skripsi/Build%20Apps/skripsi_app_backend/Code%20Upload/Code/FInalClassification.ipynb#W4sZmlsZQ%3D%3D?line=8'>9</a>\u001b[0m \u001b[39m# melakukan cropping pada file\u001b[39;00m\n\u001b[0;32m     <a href='vscode-notebook-cell:/d%3A/Skripsi/Build%20Apps/skripsi_app_backend/Code%20Upload/Code/FInalClassification.ipynb#W4sZmlsZQ%3D%3D?line=9'>10</a>\u001b[0m image \u001b[39m=\u001b[39m image[\u001b[39m420\u001b[39m:\u001b[39m1500\u001b[39m, \u001b[39m0\u001b[39m:\u001b[39m1080\u001b[39m]\n",
      "\u001b[1;31merror\u001b[0m: OpenCV(4.6.0) D:\\a\\opencv-python\\opencv-python\\opencv\\modules\\imgproc\\src\\resize.cpp:4052: error: (-215:Assertion failed) !ssize.empty() in function 'cv::resize'\n"
     ]
    }
   ],
   "source": [
    "# Call classify function with image path\n",
    "classify('test_image_2.jpg')"
   ]
  }
 ],
 "metadata": {
  "kernelspec": {
   "display_name": "Python 3",
   "language": "python",
   "name": "python3"
  },
  "language_info": {
   "codemirror_mode": {
    "name": "ipython",
    "version": 3
   },
   "file_extension": ".py",
   "mimetype": "text/x-python",
   "name": "python",
   "nbconvert_exporter": "python",
   "pygments_lexer": "ipython3",
   "version": "3.10.10"
  },
  "orig_nbformat": 4,
  "vscode": {
   "interpreter": {
    "hash": "366a4f848469d28a32ae9de383029dd12ac0cf9e43f1d301e9bcc00748ebef1b"
   }
  }
 },
 "nbformat": 4,
 "nbformat_minor": 2
}
