{
 "cells": [
  {
   "cell_type": "code",
   "execution_count": 3,
   "metadata": {},
   "outputs": [],
   "source": [
    "import cv2\n",
    "import numpy as np\n",
    "\n",
    "# Load image\n",
    "image = cv2.imread('../Dataset/data_testing_system/For_Testing_System/data (1).jpg')\n",
    "\n",
    "normalized_image = cv2.normalize(\n",
    "    image, None, alpha=0, beta=255, norm_type=cv2.NORM_MINMAX)\n",
    "\n",
    "# Crop image to 3:4 aspect ratio\n",
    "height, width, channels = normalized_image.shape\n",
    "\n",
    "target_ratio = 5 / 4\n",
    "\n",
    "if height == width:\n",
    "    # Gambar sudah persegi, tidak perlu cropping\n",
    "    img = normalized_image\n",
    "else:\n",
    "    if height > width:\n",
    "        crop_height = int(width * target_ratio)\n",
    "        y = int((height - crop_height) / 2)\n",
    "        x = 0\n",
    "        cropped_image = normalized_image[y:y+crop_height, x:x+width]\n",
    "        img = cv2.resize(cropped_image, (600, 800))\n",
    "    else:\n",
    "        crop_height = int(height * (1 / target_ratio))\n",
    "        y = int((height - crop_height) / 2)\n",
    "        x = 0\n",
    "        cropped_image = normalized_image[y:y+crop_height, x:x+width]\n",
    "        img = cv2.resize(cropped_image, (600, 800))\n"
   ]
  },
  {
   "cell_type": "code",
   "execution_count": 4,
   "metadata": {},
   "outputs": [],
   "source": [
    "image_resized = cv2.resize(image, (360, 640))\n",
    "\n",
    "\n",
    "cv2.imshow(\"before\", image_resized)\n",
    "cv2.imshow(\"after\", img)\n",
    "\n",
    "cv2.waitKey(0)\n",
    "cv2.destroyAllWindows()"
   ]
  }
 ],
 "metadata": {
  "kernelspec": {
   "display_name": "Python 3",
   "language": "python",
   "name": "python3"
  },
  "language_info": {
   "codemirror_mode": {
    "name": "ipython",
    "version": 3
   },
   "file_extension": ".py",
   "mimetype": "text/x-python",
   "name": "python",
   "nbconvert_exporter": "python",
   "pygments_lexer": "ipython3",
   "version": "3.10.11"
  },
  "orig_nbformat": 4
 },
 "nbformat": 4,
 "nbformat_minor": 2
}
