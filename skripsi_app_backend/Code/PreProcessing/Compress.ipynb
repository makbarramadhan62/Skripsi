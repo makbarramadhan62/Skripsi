{
 "cells": [
  {
   "cell_type": "code",
   "execution_count": 11,
   "metadata": {},
   "outputs": [],
   "source": [
    "# import cv2\n",
    "# import os\n",
    "\n",
    "# # Membaca gambar asli\n",
    "# image = cv2.imread(\"../API/uploads/image_2023_06_26_18_06_54.jpg\")\n",
    "\n",
    "# # Menentukan kualitas kompresi (0-100)\n",
    "# compression_quality = 75\n",
    "\n",
    "# # Mengompresi gambar ke dalam buffer sementara\n",
    "# _, buffer = cv2.imencode(\".jpg\", image, [cv2.IMWRITE_JPEG_QUALITY, compression_quality])\n",
    "\n",
    "# # Mendapatkan ukuran file sebelum kompresi\n",
    "# original_size = len(image.tobytes()) / 1048576  # Konversi ke megabyte\n",
    "\n",
    "# # Mendapatkan ukuran file setelah kompresi\n",
    "# compressed_size = len(buffer) / 1048576  # Konversi ke megabyte\n",
    "\n",
    "# # Mencetak ukuran file sebelum dan sesudah kompresi\n",
    "# print(\"Ukuran file sebelum kompresi:\", original_size, \"MB\")\n",
    "# print(\"Ukuran file setelah kompresi:\", compressed_size, \"MB\")\n"
   ]
  },
  {
   "cell_type": "code",
   "execution_count": 12,
   "metadata": {},
   "outputs": [
    {
     "name": "stdout",
     "output_type": "stream",
     "text": [
      "Ukuran file sebelum kompresi: 2.7280502319335938 MB\n",
      "Ukuran file setelah kompresi: 0.7951383590698242 MB\n"
     ]
    }
   ],
   "source": [
    "import cv2\n",
    "import os\n",
    "\n",
    "# Membaca gambar asli\n",
    "image = cv2.imread(\"../Dataset/data_testing_system/raw_images/raw_images (1).jpg\")\n",
    "\n",
    "# Menentukan kualitas kompresi (0-100)\n",
    "compression_quality = 75\n",
    "\n",
    "# Menyimpan gambar dengan kompresi menggunakan metode JPEG\n",
    "cv2.imwrite(\"../Dataset/data_testing_system/compress_images/compress_images (1).jpg\", image, [cv2.IMWRITE_JPEG_QUALITY, compression_quality])\n",
    "\n",
    "# Mendapatkan ukuran file sebelum kompresi\n",
    "original_size = os.path.getsize(\n",
    "    \"../Dataset/data_testing_system/raw_images/raw_images (1).jpg\") / 1048576  # Konversi ke megabyte\n",
    "\n",
    "# Mendapatkan ukuran file setelah kompresi\n",
    "compressed_size = os.path.getsize(\n",
    "    \"../Dataset/data_testing_system/compress_images/compress_images (1).jpg\") / 1048576  # Konversi ke megabyte\n",
    "\n",
    "# Mencetak ukuran file sebelum dan sesudah kompresi\n",
    "print(\"Ukuran file sebelum kompresi:\", original_size, \"MB\")\n",
    "print(\"Ukuran file setelah kompresi:\", compressed_size, \"MB\")"
   ]
  }
 ],
 "metadata": {
  "kernelspec": {
   "display_name": "Python 3",
   "language": "python",
   "name": "python3"
  },
  "language_info": {
   "codemirror_mode": {
    "name": "ipython",
    "version": 3
   },
   "file_extension": ".py",
   "mimetype": "text/x-python",
   "name": "python",
   "nbconvert_exporter": "python",
   "pygments_lexer": "ipython3",
   "version": "3.10.11"
  },
  "orig_nbformat": 4
 },
 "nbformat": 4,
 "nbformat_minor": 2
}
