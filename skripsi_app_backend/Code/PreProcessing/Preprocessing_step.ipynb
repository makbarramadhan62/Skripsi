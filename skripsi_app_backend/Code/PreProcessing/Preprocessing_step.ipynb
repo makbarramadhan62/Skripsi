{
 "cells": [
  {
   "attachments": {},
   "cell_type": "markdown",
   "metadata": {},
   "source": [
    "Import Library"
   ]
  },
  {
   "cell_type": "code",
   "execution_count": 1,
   "metadata": {},
   "outputs": [],
   "source": [
    "import cv2\n",
    "import numpy as np"
   ]
  },
  {
   "attachments": {},
   "cell_type": "markdown",
   "metadata": {},
   "source": [
    "Load Image"
   ]
  },
  {
   "cell_type": "code",
   "execution_count": 2,
   "metadata": {},
   "outputs": [],
   "source": [
    "img = cv2.imread('../Dataset/data_testing_system/raw_images/raw_images (6).jpg')"
   ]
  },
  {
   "attachments": {},
   "cell_type": "markdown",
   "metadata": {},
   "source": [
    "Crop Image to Square"
   ]
  },
  {
   "cell_type": "code",
   "execution_count": 3,
   "metadata": {},
   "outputs": [],
   "source": [
    "height, width, channels = img.shape\n",
    "if height > width:\n",
    "    crop_size = width\n",
    "    y = int((height - width) / 2)\n",
    "    x = 0\n",
    "else:\n",
    "    crop_size = height\n",
    "    x = int((width - height) / 2)\n",
    "    y = 0\n",
    "cropped_image = img[y:y+crop_size, x:x+crop_size]"
   ]
  },
  {
   "attachments": {},
   "cell_type": "markdown",
   "metadata": {},
   "source": [
    "Change Background to White"
   ]
  },
  {
   "cell_type": "code",
   "execution_count": 4,
   "metadata": {},
   "outputs": [],
   "source": [
    "# Konversi gambar ke skala abu-abu\n",
    "gray = cv2.cvtColor(cropped_image, cv2.COLOR_BGR2GRAY)\n",
    "\n",
    "# Thresholding pada gambar untuk memisahkan objek dari latar belakang\n",
    "_, thresh = cv2.threshold(gray, 0, 255, cv2.THRESH_BINARY_INV+cv2.THRESH_OTSU)\n",
    "\n",
    "# Temukan kontur pada gambar yang telah dithreshold dan dapatkan kontur terbesar yang diasumsikan sebagai objek daun\n",
    "contours, _ = cv2.findContours(\n",
    "    thresh, cv2.RETR_EXTERNAL, cv2.CHAIN_APPROX_SIMPLE)\n",
    "cnt = max(contours, key=cv2.contourArea)\n",
    "\n",
    "# Dapatkan koordinat bounding box (kotak pembatas) dari kontur\n",
    "x, y, w, h = cv2.boundingRect(cnt)\n",
    "\n",
    "# Buat mask dengan ukuran yang sama dengan gambar dan inisialisasi dengan nilai 0 (hitam)\n",
    "mask = np.zeros(cropped_image.shape[:2], np.uint8)\n",
    "\n",
    "# Tentukan model latar belakang (background) dan objek (foreground)\n",
    "bgdModel = np.zeros((1, 65), np.float64)\n",
    "fgdModel = np.zeros((1, 65), np.float64)\n",
    "\n",
    "# Tentukan persegi panjang (rectangle) yang mencakup objek daun (ROI)\n",
    "rect = (x, y, w, h)\n",
    "\n",
    "# Algoritma GrabCut untuk menghapus latar belakang\n",
    "cv2.grabCut(cropped_image, mask, rect, bgdModel,\n",
    "            fgdModel, 5, cv2.GC_INIT_WITH_RECT)\n",
    "\n",
    "# Buat mask dimana piksel non-nol menunjukkan objek (foreground) yang mungkin\n",
    "mask2 = np.where((mask == cv2.GC_FGD) | (\n",
    "    mask == cv2.GC_PR_FGD), 255, 0).astype('uint8')\n",
    "\n",
    "# Balikkan mask ke negatif (putih menjadi hitam dan sebaliknya)\n",
    "mask2_inv = cv2.bitwise_not(mask2)\n",
    "\n",
    "# Buat hasil segmentasi dengan latar belakang putih\n",
    "result = np.zeros_like(cropped_image)\n",
    "result[np.where(mask2_inv == 255)] = (255, 255, 255)\n",
    "result[np.where(mask2_inv == 0)] = cropped_image[np.where(mask2_inv == 0)]"
   ]
  },
  {
   "attachments": {},
   "cell_type": "markdown",
   "metadata": {},
   "source": [
    "Cropping ROI"
   ]
  },
  {
   "cell_type": "code",
   "execution_count": 5,
   "metadata": {},
   "outputs": [],
   "source": [
    "roi = result[y:y+h, x:x+w]"
   ]
  },
  {
   "attachments": {},
   "cell_type": "markdown",
   "metadata": {},
   "source": [
    "Normalize Image"
   ]
  },
  {
   "cell_type": "code",
   "execution_count": 6,
   "metadata": {},
   "outputs": [],
   "source": [
    "normalized_image = cv2.normalize(\n",
    "    roi, None, alpha=0, beta=255, norm_type=cv2.NORM_MINMAX)"
   ]
  },
  {
   "attachments": {},
   "cell_type": "markdown",
   "metadata": {},
   "source": [
    "Resize Image"
   ]
  },
  {
   "cell_type": "code",
   "execution_count": 7,
   "metadata": {},
   "outputs": [],
   "source": [
    "# Menggambar kotak ROI pada Gambar Awal\n",
    "cv2.rectangle(cropped_image, (x, y), (x+w, y+h), (255, 0, 0), 5)\n",
    "\n",
    "resized_img = cv2.resize(cropped_image, (512, 512))\n",
    "\n",
    "thresh = cv2.resize(thresh, (512, 512))\n",
    "\n",
    "resized_cropped = cv2.resize(normalized_image, (512, 512))\n"
   ]
  },
  {
   "attachments": {},
   "cell_type": "markdown",
   "metadata": {},
   "source": [
    "Show All Result"
   ]
  },
  {
   "cell_type": "code",
   "execution_count": 8,
   "metadata": {},
   "outputs": [],
   "source": [
    "cv2.imshow('Thresh', thresh)\n",
    "cv2.imshow('Crop Square', resized_img)\n",
    "cv2.imshow('Cropped ROI', resized_cropped)\n",
    "cv2.waitKey(0)\n",
    "cv2.destroyAllWindows()"
   ]
  }
 ],
 "metadata": {
  "kernelspec": {
   "display_name": "Python 3",
   "language": "python",
   "name": "python3"
  },
  "language_info": {
   "codemirror_mode": {
    "name": "ipython",
    "version": 3
   },
   "file_extension": ".py",
   "mimetype": "text/x-python",
   "name": "python",
   "nbconvert_exporter": "python",
   "pygments_lexer": "ipython3",
   "version": "3.10.11"
  },
  "orig_nbformat": 4
 },
 "nbformat": 4,
 "nbformat_minor": 2
}
