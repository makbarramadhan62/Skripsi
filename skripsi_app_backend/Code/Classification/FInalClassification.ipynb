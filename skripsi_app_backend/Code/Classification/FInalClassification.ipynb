{
 "cells": [
  {
   "cell_type": "code",
   "execution_count": 51,
   "metadata": {},
   "outputs": [],
   "source": [
    "import cv2\n",
    "import numpy as np\n",
    "import pandas as pd\n",
    "import joblib"
   ]
  },
  {
   "cell_type": "code",
   "execution_count": 52,
   "metadata": {},
   "outputs": [],
   "source": [
    "def preprocessing(image):\n",
    "    \n",
    "    # inisialisasi ukuran resize\n",
    "    width, height = 1080, 1920\n",
    "\n",
    "    # melakukan resize pada file\n",
    "    image = cv2.resize(image, (width, height),\n",
    "                    interpolation=cv2.INTER_AREA)\n",
    "    # melakukan cropping pada file\n",
    "    image = image[420:1500, 0:1080]\n",
    "    \n",
    "    return image\n"
   ]
  },
  {
   "cell_type": "code",
   "execution_count": 53,
   "metadata": {},
   "outputs": [],
   "source": [
    "def extract_features(preprocessed_image):\n",
    "\n",
    "    # mengubah gambar ke dalam format HSV\n",
    "    hsv = cv2.cvtColor(preprocessed_image, cv2.COLOR_BGR2HSV)\n",
    "\n",
    "    # mengambil nilai hue (H) dari gambar\n",
    "    hue = hsv[:, :, 0]\n",
    "\n",
    "    # mengambil nilai saturation (S) dari gambar\n",
    "    saturation = hsv[:, :, 1]\n",
    "\n",
    "    # mengambil nilai value (V) dari gambar\n",
    "    value = hsv[:, :, 2]\n",
    "\n",
    "    # membuat list untuk menyimpan hasil ekstraksi fitur\n",
    "    features = []\n",
    "\n",
    "    # menambahkan nilai H ke dalam list\n",
    "    features.append(np.mean(hue))\n",
    "\n",
    "    # menambahkan nilai S ke dalam list\n",
    "    features.append(np.mean(saturation))\n",
    "\n",
    "    # menambahkan nilai V ke dalam list\n",
    "    features.append(np.mean(value))\n",
    "\n",
    "    return features\n"
   ]
  },
  {
   "cell_type": "code",
   "execution_count": 54,
   "metadata": {},
   "outputs": [],
   "source": [
    "from sklearn.metrics import accuracy_score, classification_report\n",
    "\n",
    "\n",
    "def classify(image):\n",
    "    # Load pre-trained model\n",
    "    nb = joblib.load('../Model/NaiveBayes3.pkl')\n",
    "    \n",
    "    image = cv2.imread(image)\n",
    "    \n",
    "    # Preprocess image\n",
    "    img_array = preprocessing(image)\n",
    "    \n",
    "    # Extract features\n",
    "    X = extract_features(img_array)\n",
    "    \n",
    "    # Predict label\n",
    "    y_pred = nb.predict([X])\n",
    "    \n",
    "    # Print label\n",
    "    print(f'Label: {y_pred[0]}')\n",
    "    \n",
    "    # # Load true label\n",
    "    # df = pd.read_csv('../csv/hasil_ekstraksi_rata2_hsv.csv')\n",
    "    # y_true = df['label']\n",
    "    \n",
    "    # # Print accuracy and precision\n",
    "    # print(classification_report(y_true, y_pred))\n",
    "    # print(f'Accuracy: {accuracy_score(y_true, y_pred)}')"
   ]
  },
  {
   "cell_type": "code",
   "execution_count": 55,
   "metadata": {},
   "outputs": [
    {
     "name": "stdout",
     "output_type": "stream",
     "text": [
      "Label: 1\n"
     ]
    },
    {
     "name": "stderr",
     "output_type": "stream",
     "text": [
      "C:\\Users\\makba\\AppData\\Local\\Packages\\PythonSoftwareFoundation.Python.3.10_qbz5n2kfra8p0\\LocalCache\\local-packages\\Python310\\site-packages\\sklearn\\base.py:450: UserWarning: X does not have valid feature names, but GaussianNB was fitted with feature names\n",
      "  warnings.warn(\n"
     ]
    }
   ],
   "source": [
    "# Call classify function with image path\n",
    "classify('../hama_tungau (17).jpg')"
   ]
  }
 ],
 "metadata": {
  "kernelspec": {
   "display_name": "Python 3",
   "language": "python",
   "name": "python3"
  },
  "language_info": {
   "codemirror_mode": {
    "name": "ipython",
    "version": 3
   },
   "file_extension": ".py",
   "mimetype": "text/x-python",
   "name": "python",
   "nbconvert_exporter": "python",
   "pygments_lexer": "ipython3",
   "version": "3.10.10"
  },
  "orig_nbformat": 4,
  "vscode": {
   "interpreter": {
    "hash": "366a4f848469d28a32ae9de383029dd12ac0cf9e43f1d301e9bcc00748ebef1b"
   }
  }
 },
 "nbformat": 4,
 "nbformat_minor": 2
}
