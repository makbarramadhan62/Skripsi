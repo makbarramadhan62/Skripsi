{
 "cells": [
  {
   "cell_type": "code",
   "execution_count": 31,
   "metadata": {},
   "outputs": [],
   "source": [
    "import cv2\n",
    "import joblib\n",
    "import numpy as np\n",
    "import pandas as pd\n",
    "from skimage.feature import greycomatrix, greycoprops\n"
   ]
  },
  {
   "cell_type": "code",
   "execution_count": 32,
   "metadata": {},
   "outputs": [],
   "source": [
    "# Load model\n",
    "nb = joblib.load('../Model/NB_TRY_NEW.pkl')"
   ]
  },
  {
   "cell_type": "code",
   "execution_count": 33,
   "metadata": {},
   "outputs": [],
   "source": [
    "def preprocess_and_extract_features(image_path):\n",
    "    # Load image\n",
    "    image = cv2.imread(image_path)\n",
    "\n",
    "    # # Crop image to square\n",
    "    # height, width, channels = image.shape\n",
    "    # if height > width:\n",
    "    #     crop_size = width\n",
    "    #     y = int((height - width) / 2)\n",
    "    #     x = 0\n",
    "    # else:\n",
    "    #     crop_size = height\n",
    "    #     x = int((width - height) / 2)\n",
    "    #     y = 0\n",
    "    # cropped_image = image[y:y+crop_size, x:x+crop_size]\n",
    "\n",
    "    # # Resize image\n",
    "    # resized_image = cv2.resize(cropped_image, (1080, 1080))\n",
    "    \n",
    "    # # Konversi gambar ke skala abu-abu\n",
    "    # gray = cv2.cvtColor(image, cv2.COLOR_BGR2GRAY)\n",
    "\n",
    "    # # Thresholding thresholding pada gambar untuk memisahkan objek dari latar belakang\n",
    "    # _, thresh = cv2.threshold(\n",
    "    #     gray, 0, 255, cv2.THRESH_BINARY_INV+cv2.THRESH_OTSU)\n",
    "\n",
    "    # # Temukan kontur pada gambar yang telah dithreshold dan dapatkan kontur terbesar yang diasumsikan sebagai objek daun\n",
    "    # contours, _ = cv2.findContours(\n",
    "    #     thresh, cv2.RETR_EXTERNAL, cv2.CHAIN_APPROX_SIMPLE)\n",
    "    # cnt = max(contours, key=cv2.contourArea)\n",
    "\n",
    "    # # Dapatkan koordinat bounding box (kotak pembatas) dari kontur\n",
    "    # x, y, w, h = cv2.boundingRect(cnt)\n",
    "\n",
    "    # # Dapatkan ROI (Region of Interest) menggunakan koordinat bounding box\n",
    "    # roi = image[y:y+h, x:x+w]\n",
    "\n",
    "    # # resize ROI hasil segmentasi\n",
    "    # resized_image = cv2.resize(roi, (720, 720))\n",
    "\n",
    "    # Convert image to HSV \n",
    "    hsv = cv2.cvtColor(image, cv2.COLOR_BGR2HSV)\n",
    "    # hsv = cv2.cvtColor(resized_image, cv2.COLOR_BGR2RGB)\n",
    "\n",
    "    # Perhitungan rata rata hsv\n",
    "    mean_h, mean_s, mean_v = np.mean(hsv, axis=(0, 1))\n",
    "    \n",
    "    # Hitung matriks glcm\n",
    "    image_gray = cv2.cvtColor(image, cv2.COLOR_BGR2GRAY)\n",
    "    glcm = greycomatrix(image_gray, [5], [0],\n",
    "                        levels=256, symmetric=True, normed=True)\n",
    "\n",
    "    # Hitung fitur glcm\n",
    "    correlation = greycoprops(glcm, 'correlation')[0][0]\n",
    "    homogeneity = greycoprops(glcm, 'homogeneity')[0][0]\n",
    "    contrast = greycoprops(glcm, 'contrast')[0][0]\n",
    "\n",
    "    # Create feature array\n",
    "    X = np.array([mean_h, mean_s, mean_v, correlation, homogeneity, contrast])\n",
    "    # X = np.array([mean_h, mean_s, mean_v])\n",
    "\n",
    "    return X"
   ]
  },
  {
   "cell_type": "code",
   "execution_count": 34,
   "metadata": {},
   "outputs": [],
   "source": [
    "def classify(image_path):\n",
    "    # Melakukan pre processing dan ekstraksi fitur\n",
    "    X = preprocess_and_extract_features(image_path)\n",
    "\n",
    "    # Mengubah bentuk array\n",
    "    X_reshaped = X.reshape(1, -1)\n",
    "\n",
    "    # Membuat dataframe menggunakan nama fitur\n",
    "    feature_names = ['H', 'S', 'V', 'correlation', 'homogeneity', 'contrast']\n",
    "    # feature_names = ['H', 'S', 'V']\n",
    "    X_new = pd.DataFrame(data=X_reshaped, columns=feature_names)\n",
    "\n",
    "    # Predict label\n",
    "    y_pred = nb.predict(X_new)\n",
    "\n",
    "    # Print label\n",
    "    print(f'Label: {y_pred[0]}')"
   ]
  },
  {
   "cell_type": "code",
   "execution_count": 35,
   "metadata": {},
   "outputs": [
    {
     "name": "stdout",
     "output_type": "stream",
     "text": [
      "Label: 2\n"
     ]
    },
    {
     "name": "stderr",
     "output_type": "stream",
     "text": [
      "C:\\Users\\makba\\AppData\\Local\\Packages\\PythonSoftwareFoundation.Python.3.10_qbz5n2kfra8p0\\LocalCache\\local-packages\\Python310\\site-packages\\skimage\\feature\\__init__.py:35: skimage_deprecation: Function ``greycomatrix`` is deprecated and will be removed in version 1.0. Use ``skimage.feature.graycomatrix`` instead.\n",
      "  removed_version='1.0')\n",
      "C:\\Users\\makba\\AppData\\Local\\Packages\\PythonSoftwareFoundation.Python.3.10_qbz5n2kfra8p0\\LocalCache\\local-packages\\Python310\\site-packages\\skimage\\feature\\__init__.py:42: skimage_deprecation: Function ``greycoprops`` is deprecated and will be removed in version 1.0. Use ``skimage.feature.graycoprops`` instead.\n",
      "  removed_version='1.0')\n",
      "C:\\Users\\makba\\AppData\\Local\\Packages\\PythonSoftwareFoundation.Python.3.10_qbz5n2kfra8p0\\LocalCache\\local-packages\\Python310\\site-packages\\skimage\\feature\\__init__.py:42: skimage_deprecation: Function ``greycoprops`` is deprecated and will be removed in version 1.0. Use ``skimage.feature.graycoprops`` instead.\n",
      "  removed_version='1.0')\n",
      "C:\\Users\\makba\\AppData\\Local\\Packages\\PythonSoftwareFoundation.Python.3.10_qbz5n2kfra8p0\\LocalCache\\local-packages\\Python310\\site-packages\\skimage\\feature\\__init__.py:42: skimage_deprecation: Function ``greycoprops`` is deprecated and will be removed in version 1.0. Use ``skimage.feature.graycoprops`` instead.\n",
      "  removed_version='1.0')\n"
     ]
    }
   ],
   "source": [
    "# Contoh\n",
    "image_path = '../Dataset/with_Background/5_Label/DataSet_Testing/bercak_merah/bercak_merah (2).jpg'\n",
    "classify(image_path)"
   ]
  }
 ],
 "metadata": {
  "kernelspec": {
   "display_name": "Python 3",
   "language": "python",
   "name": "python3"
  },
  "language_info": {
   "codemirror_mode": {
    "name": "ipython",
    "version": 3
   },
   "file_extension": ".py",
   "mimetype": "text/x-python",
   "name": "python",
   "nbconvert_exporter": "python",
   "pygments_lexer": "ipython3",
   "version": "3.10.11"
  },
  "orig_nbformat": 4
 },
 "nbformat": 4,
 "nbformat_minor": 2
}
