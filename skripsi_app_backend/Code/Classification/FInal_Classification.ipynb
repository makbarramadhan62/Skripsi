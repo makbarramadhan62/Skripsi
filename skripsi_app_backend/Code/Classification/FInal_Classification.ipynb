{
 "cells": [
  {
   "cell_type": "code",
   "execution_count": 25,
   "metadata": {},
   "outputs": [],
   "source": [
    "import cv2\n",
    "import joblib\n",
    "import numpy as np\n",
    "import pandas as pd\n",
    "from skimage.feature import graycomatrix, graycoprops\n"
   ]
  },
  {
   "cell_type": "code",
   "execution_count": 26,
   "metadata": {},
   "outputs": [],
   "source": [
    "def preprocessing(image):\n",
    "    \n",
    "\n",
    "    # Crop image to square\n",
    "    # height, width, channels = image.shape\n",
    "    # if height > width:\n",
    "    #     crop_size = width\n",
    "    #     y = int((height - width) / 2)\n",
    "    #     x = 0\n",
    "    # else:\n",
    "    #     crop_size = height\n",
    "    #     x = int((width - height) / 2)\n",
    "    #     y = 0\n",
    "    # cropped_image = image[y:y+crop_size, x:x+crop_size]\n",
    "\n",
    "    # # Resize image\n",
    "    # resized_image = cv2.resize(cropped_image, (1080, 1080))\n",
    "    \n",
    "    # Konversi gambar ke skala abu-abu\n",
    "    gray = cv2.cvtColor(image, cv2.COLOR_BGR2GRAY)\n",
    "\n",
    "    # Thresholding thresholding pada gambar untuk memisahkan objek dari latar belakang\n",
    "    _, thresh = cv2.threshold(\n",
    "        gray, 0, 255, cv2.THRESH_BINARY_INV+cv2.THRESH_OTSU)\n",
    "\n",
    "    # Temukan kontur pada gambar yang telah dithreshold dan dapatkan kontur terbesar yang diasumsikan sebagai objek daun\n",
    "    contours, _ = cv2.findContours(\n",
    "        thresh, cv2.RETR_EXTERNAL, cv2.CHAIN_APPROX_SIMPLE)\n",
    "    cnt = max(contours, key=cv2.contourArea)\n",
    "\n",
    "    # Dapatkan koordinat bounding box (kotak pembatas) dari kontur\n",
    "    x, y, w, h = cv2.boundingRect(cnt)\n",
    "\n",
    "    # Dapatkan ROI (Region of Interest) menggunakan koordinat bounding box\n",
    "    roi = image[y:y+h, x:x+w]\n",
    "\n",
    "    # resize ROI hasil segmentasi\n",
    "    resized_image = cv2.resize(roi, (1080, 1080))\n",
    "    \n",
    "    # cv2.imshow(\"Cropped Image\", resized_image)\n",
    "    # cv2.waitKey(0)\n",
    "    # cv2.destroyAllWindows()\n",
    "\n",
    "    return resized_image\n"
   ]
  },
  {
   "cell_type": "code",
   "execution_count": 27,
   "metadata": {},
   "outputs": [],
   "source": [
    "def extract_features(image):\n",
    "  \n",
    "  # Convert image to HSV\n",
    "  hsv = cv2.cvtColor(image, cv2.COLOR_BGR2HSV)\n",
    "\n",
    "  # membuat list untuk menyimpan hasil ekstraksi fitur\n",
    "  features = []\n",
    "  \n",
    "  # Perhitungan rata rata hsv\n",
    "  mean_h, mean_s, mean_v = np.mean(hsv, axis=(0, 1))\n",
    "  features.append(np.mean(mean_h))\n",
    "  features.append(np.mean(mean_s))\n",
    "  features.append(np.mean(mean_v))\n",
    "\n",
    "  # Hitung matriks glcm\n",
    "  image_gray = cv2.cvtColor(image, cv2.COLOR_BGR2GRAY)\n",
    "  glcm = graycomatrix(image_gray, distances=[5], angles=[0, np.pi/4, np.pi/2, 3*np.pi/4], levels=256, symmetric=True, normed=True)\n",
    "\n",
    "  # Hitung fitur glcm\n",
    "  glcm_properties = ['dissimilarity', 'homogeneity', 'contrast']\n",
    "  glcm_props = [\n",
    "      propery for name in glcm_properties for propery in graycoprops(glcm, name)[0]]\n",
    "  for item in glcm_props:\n",
    "      features.append(item)\n",
    "\n",
    "  return features\n"
   ]
  },
  {
   "cell_type": "code",
   "execution_count": 28,
   "metadata": {},
   "outputs": [],
   "source": [
    "# Load model\n",
    "nb = joblib.load('../Model/NB_Model_HSV_GLCM[all]3_2Label.pkl')"
   ]
  },
  {
   "cell_type": "code",
   "execution_count": 29,
   "metadata": {},
   "outputs": [],
   "source": [
    "def classify(image_path):\n",
    "    #read image\n",
    "    image = cv2.imread(image_path)\n",
    "    \n",
    "    # Melakukan pre processing dan ekstraksi fitur\n",
    "    preprocessed = preprocessing(image)\n",
    "    X = extract_features(preprocessed)\n",
    "\n",
    "    # Mengubah bentuk array\n",
    "    # X_reshaped = X.reshape(1, -1)\n",
    "    X_reshaped = np.reshape(X, (1, -1))\n",
    "\n",
    "    # Membuat dataframe menggunakan nama fitur\n",
    "    glcm_properties = ['dissimilarity', 'homogeneity', 'contrast']\n",
    "    angles = [0, 45, 90, 135]\n",
    "    feature_names = ['H', 'S', 'V'] + [f'{prop} {angle}' for prop in glcm_properties for angle in angles]\n",
    "\n",
    "    X_new = pd.DataFrame(data=X_reshaped, columns=feature_names)\n",
    "\n",
    "    # Predict label\n",
    "    y_pred = nb.predict(X_new)\n",
    "\n",
    "    # Print label\n",
    "    print(f'Label: {y_pred[0]}')"
   ]
  },
  {
   "cell_type": "code",
   "execution_count": 30,
   "metadata": {},
   "outputs": [
    {
     "name": "stdout",
     "output_type": "stream",
     "text": [
      "Label: 2\n"
     ]
    }
   ],
   "source": [
    "# Contoh\n",
    "image_path = '../Dataset/Uji_Coba_Sistem/embun_tepung_palsu (2).jpg'\n",
    "classify(image_path)"
   ]
  }
 ],
 "metadata": {
  "kernelspec": {
   "display_name": "Python 3",
   "language": "python",
   "name": "python3"
  },
  "language_info": {
   "codemirror_mode": {
    "name": "ipython",
    "version": 3
   },
   "file_extension": ".py",
   "mimetype": "text/x-python",
   "name": "python",
   "nbconvert_exporter": "python",
   "pygments_lexer": "ipython3",
   "version": "3.10.11"
  },
  "orig_nbformat": 4
 },
 "nbformat": 4,
 "nbformat_minor": 2
}
