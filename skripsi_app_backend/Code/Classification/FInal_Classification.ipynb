{
 "cells": [
  {
   "cell_type": "code",
   "execution_count": 1,
   "metadata": {},
   "outputs": [],
   "source": [
    "import cv2\n",
    "import joblib\n",
    "import numpy as np\n",
    "import pandas as pd\n",
    "from sklearn import preprocessing\n",
    "from skimage.feature import graycomatrix, graycoprops\n"
   ]
  },
  {
   "cell_type": "code",
   "execution_count": 2,
   "metadata": {},
   "outputs": [],
   "source": [
    "# Load model\n",
    "nb = joblib.load('../Model/NB_RGB[Hist-16]_GLCM[S4-D5]_160_ROI.pkl')"
   ]
  },
  {
   "cell_type": "code",
   "execution_count": 3,
   "metadata": {},
   "outputs": [],
   "source": [
    "def preprocessing_image(image):    \n",
    "\n",
    "    # Crop image to square\n",
    "    height, width, channels = image.shape\n",
    "    if height > width:\n",
    "        crop_size = width\n",
    "        y = int((height - width) / 2)\n",
    "        x = 0\n",
    "    else:\n",
    "        crop_size = height\n",
    "        x = int((width - height) / 2)\n",
    "        y = 0\n",
    "    cropped_image = image[y:y+crop_size, x:x+crop_size]\n",
    "\n",
    "    # Konversi gambar ke skala abu-abu\n",
    "    gray = cv2.cvtColor(cropped_image, cv2.COLOR_BGR2GRAY)\n",
    "\n",
    "    # Thresholding pada gambar untuk memisahkan objek dari latar belakang\n",
    "    _, thresh = cv2.threshold(gray, 0, 255, cv2.THRESH_BINARY_INV+cv2.THRESH_OTSU)\n",
    "\n",
    "    # Temukan kontur pada gambar yang telah dithreshold dan dapatkan kontur terbesar yang diasumsikan sebagai objek daun\n",
    "    contours, _ = cv2.findContours(\n",
    "        thresh, cv2.RETR_EXTERNAL, cv2.CHAIN_APPROX_SIMPLE)\n",
    "    cnt = max(contours, key=cv2.contourArea)\n",
    "\n",
    "    # Dapatkan koordinat bounding box (kotak pembatas) dari kontur\n",
    "    x, y, w, h = cv2.boundingRect(cnt)\n",
    "\n",
    "    # Buat mask dengan ukuran yang sama dengan gambar dan inisialisasi dengan nilai 0 (hitam)\n",
    "    mask = np.zeros(cropped_image.shape[:2], np.uint8)\n",
    "\n",
    "    # Tentukan model latar belakang (background) dan objek (foreground)\n",
    "    bgdModel = np.zeros((1, 65), np.float64)\n",
    "    fgdModel = np.zeros((1, 65), np.float64)\n",
    "\n",
    "    # Tentukan persegi panjang (rectangle) yang mencakup objek daun (ROI)\n",
    "    rect = (x, y, w, h)\n",
    "\n",
    "    # Algoritma GrabCut untuk menghapus latar belakang\n",
    "    cv2.grabCut(cropped_image, mask, rect, bgdModel,\n",
    "                fgdModel, 5, cv2.GC_INIT_WITH_RECT)\n",
    "\n",
    "    # Buat mask dimana piksel non-nol menunjukkan objek (foreground) yang mungkin\n",
    "    mask2 = np.where((mask == cv2.GC_FGD) | (\n",
    "        mask == cv2.GC_PR_FGD), 255, 0).astype('uint8')\n",
    "\n",
    "    # Balikkan mask ke negatif (putih menjadi hitam dan sebaliknya)\n",
    "    mask2_inv = cv2.bitwise_not(mask2)\n",
    "\n",
    "    # Buat hasil segmentasi dengan latar belakang putih\n",
    "    result = np.zeros_like(cropped_image)\n",
    "    result[np.where(mask2_inv == 255)] = (255, 255, 255)\n",
    "    result[np.where(mask2_inv == 0)] = cropped_image[np.where(mask2_inv == 0)]\n",
    "\n",
    "    # Crop gambar hasil segmentasi menggunakan ROI\n",
    "    roi = result[y:y+h, x:x+w]\n",
    "    normalized_image = cv2.normalize(roi, None, alpha=0, beta=255, norm_type=cv2.NORM_MINMAX)\n",
    "\n",
    "    resized_roi = cv2.resize(normalized_image, (1080, 1080))\n",
    "    \n",
    "    # cv2.waitKey(0)\n",
    "    # cv2.destroyAllWindows()\n",
    "\n",
    "    return resized_roi\n"
   ]
  },
  {
   "cell_type": "code",
   "execution_count": 4,
   "metadata": {},
   "outputs": [],
   "source": [
    "def extract_features(image):\n",
    "\n",
    "    # Konversi gambar ke ruang warna rgb\n",
    "    rgb_image = cv2.cvtColor(image, cv2.COLOR_BGR2RGB)\n",
    "\n",
    "    r, g, b = cv2.split(rgb_image)  # Pisahkan channel R, G, dan B\n",
    "\n",
    "    # histogram property\n",
    "    bins = 16\n",
    "\n",
    "    # Hitung histogram untuk channel H\n",
    "    hist_r = cv2.calcHist([r], [0], None, [bins], [0, 256])\n",
    "    # Mengubah histogram R menjadi array 1 dimensi\n",
    "    hist_r = np.ravel(hist_r)\n",
    "\n",
    "    # Hitung histogram untuk channel S\n",
    "    hist_g = cv2.calcHist([g], [0], None, [bins], [0, 256])\n",
    "    # Mengubah histogram G menjadi array 1 dimensi\n",
    "    hist_g = np.ravel(hist_g)\n",
    "\n",
    "    # Hitung histogram untuk channel V\n",
    "    hist_b = cv2.calcHist([b], [0], None, [bins], [0, 256])\n",
    "    # Mengubah histogram B menjadi array 1 dimensi\n",
    "    hist_b = np.ravel(hist_b)\n",
    "\n",
    "    # scenario GLCM properties\n",
    "    glcm_properties = ['dissimilarity',\n",
    "                       'correlation', 'homogeneity', 'contrast']\n",
    "    distance = [5]\n",
    "\n",
    "    # Hitung matriks glcm\n",
    "    image_gray = cv2.cvtColor(image, cv2.COLOR_BGR2GRAY)\n",
    "    glcm = graycomatrix(image_gray, distances=distance, angles=[\n",
    "                        0, np.pi/4, np.pi/2, 3*np.pi/4], levels=256, symmetric=True, normed=True)\n",
    "\n",
    "    # Hitung fitur glcm\n",
    "    feature_glcm = []\n",
    "    glcm_props = [\n",
    "        propery for name in glcm_properties for propery in graycoprops(glcm, name)[0]]\n",
    "    for item in glcm_props:\n",
    "        feature_glcm.append(item)\n",
    "\n",
    "    # menambahkan semua fitur ke list\n",
    "    features = []\n",
    "    features.append([*hist_r, *hist_g, *hist_b] + feature_glcm)\n",
    "\n",
    "    return features"
   ]
  },
  {
   "cell_type": "code",
   "execution_count": 5,
   "metadata": {},
   "outputs": [],
   "source": [
    "#read image\n",
    "image = cv2.imread(\"../Dataset/data_testing_system/raw_images/raw_images (6).jpg\")"
   ]
  },
  {
   "cell_type": "code",
   "execution_count": 6,
   "metadata": {},
   "outputs": [],
   "source": [
    "preprocessed = preprocessing_image(image)"
   ]
  },
  {
   "cell_type": "code",
   "execution_count": 7,
   "metadata": {},
   "outputs": [],
   "source": [
    "X = extract_features(preprocessed)"
   ]
  },
  {
   "cell_type": "code",
   "execution_count": 8,
   "metadata": {},
   "outputs": [
    {
     "name": "stdout",
     "output_type": "stream",
     "text": [
      "Label: 2\n"
     ]
    }
   ],
   "source": [
    "# Mengubah bentuk array\n",
    "X_reshaped = np.reshape(X, (1, -1))\n",
    "\n",
    "# inisialisasi atribut fitur untuk dataframe\n",
    "glcm_properties = ['dissimilarity',\n",
    "                   'correlation', 'homogeneity', 'contrast']\n",
    "angles = [0, 45, 90, 135]\n",
    "bins = 16\n",
    "\n",
    "# Membuat dataframe menggunakan nama fitur\n",
    "feature_names = ['hist_r' + str(i+1) for i in range(bins)] + ['hist_g' + str(i+1) for i in range(bins)] + [\n",
    "    'hist_b' + str(i+1) for i in range(bins)] + [f'{prop} {angle}' for prop in glcm_properties for angle in angles]\n",
    "\n",
    "X = pd.DataFrame(data=X_reshaped, columns=feature_names)\n",
    "\n",
    "normalization_data = preprocessing.normalize(X, norm=\"l2\")\n",
    "\n",
    "# Predict label\n",
    "y_pred = nb.predict(normalization_data)\n",
    "\n",
    "result = int(y_pred[0])\n",
    "\n",
    "# Print label\n",
    "print(f'Label: {result}')"
   ]
  },
  {
   "cell_type": "code",
   "execution_count": 9,
   "metadata": {},
   "outputs": [],
   "source": [
    "# def classify(image_path):\n",
    "#     #read image\n",
    "#     image = cv2.imread(image_path)\n",
    "    \n",
    "#     # Melakukan pre processing dan ekstraksi fitur\n",
    "#     preprocessed = preprocessing_image(image)\n",
    "#     X = extract_features(preprocessed)\n",
    "\n",
    "#     # Mengubah bentuk array\n",
    "#     # X_reshaped = X.reshape(1, -1)\n",
    "#     X_reshaped = np.reshape(X, (1, -1))\n",
    "\n",
    "#     # inisialisasi atribut fitur untuk dataframe\n",
    "#     glcm_properties = ['dissimilarity',\n",
    "#                        'correlation', 'homogeneity', 'contrast']\n",
    "#     angles = [0, 45, 90, 135]\n",
    "#     bins = 16\n",
    "\n",
    "#     # Membuat dataframe menggunakan nama fitur\n",
    "#     feature_names = ['hist_r' + str(i+1) for i in range(bins)] + ['hist_g' + str(i+1) for i in range(bins)] + [\n",
    "#         'hist_b' + str(i+1) for i in range(bins)] + [f'{prop} {angle}' for prop in glcm_properties for angle in angles]\n",
    "\n",
    "#     X = pd.DataFrame(data=X_reshaped, columns=feature_names)\n",
    "    \n",
    "#     normalization_data = preprocessing.normalize(X, norm=\"l2\")\n",
    "\n",
    "#     # Predict label\n",
    "#     y_pred = nb.predict(normalization_data)\n",
    "\n",
    "#     result = int(y_pred[0])\n",
    "\n",
    "#     # Print label\n",
    "#     print(f'Label: {result}')"
   ]
  },
  {
   "cell_type": "code",
   "execution_count": 10,
   "metadata": {},
   "outputs": [],
   "source": [
    "# # Contoh\n",
    "# image_path = '../Dataset/data_testing_system/raw_images/raw_images (9).jpg'\n",
    "# classify(image_path)"
   ]
  }
 ],
 "metadata": {
  "kernelspec": {
   "display_name": "Python 3",
   "language": "python",
   "name": "python3"
  },
  "language_info": {
   "codemirror_mode": {
    "name": "ipython",
    "version": 3
   },
   "file_extension": ".py",
   "mimetype": "text/x-python",
   "name": "python",
   "nbconvert_exporter": "python",
   "pygments_lexer": "ipython3",
   "version": "3.10.11"
  },
  "orig_nbformat": 4
 },
 "nbformat": 4,
 "nbformat_minor": 2
}
