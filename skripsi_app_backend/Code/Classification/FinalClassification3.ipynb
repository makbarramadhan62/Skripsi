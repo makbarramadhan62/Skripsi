{
 "cells": [
  {
   "cell_type": "code",
   "execution_count": 68,
   "metadata": {},
   "outputs": [],
   "source": [
    "import cv2\n",
    "import joblib\n",
    "import numpy as np\n",
    "import pandas as pd"
   ]
  },
  {
   "cell_type": "code",
   "execution_count": 69,
   "metadata": {},
   "outputs": [],
   "source": [
    "# Load pre-trained model\n",
    "nb = joblib.load('../Model/NaiveBayes3.pkl')"
   ]
  },
  {
   "cell_type": "code",
   "execution_count": 70,
   "metadata": {},
   "outputs": [],
   "source": [
    "# Define function for preprocessing and feature extraction\n",
    "def preprocess_and_extract_features(image_path):\n",
    "    # Load image\n",
    "    image = cv2.imread(image_path)\n",
    "\n",
    "    # Crop image to square\n",
    "    height, width, channels = image.shape\n",
    "    if height > width:\n",
    "        crop_size = width\n",
    "        y = int((height - width) / 2)\n",
    "        x = 0\n",
    "    else:\n",
    "        crop_size = height\n",
    "        x = int((width - height) / 2)\n",
    "        y = 0\n",
    "    cropped_image = image[y:y+crop_size, x:x+crop_size]\n",
    "\n",
    "    # Resize image\n",
    "    resized_image = cv2.resize(cropped_image, (1080, 1080))\n",
    "\n",
    "    # Convert image to HSV color space\n",
    "    hsv_image = cv2.cvtColor(resized_image, cv2.COLOR_BGR2HSV)\n",
    "\n",
    "    # Compute mean of HSV values for each channel\n",
    "    h_mean = np.mean(hsv_image[:, :, 0])\n",
    "    s_mean = np.mean(hsv_image[:, :, 1])\n",
    "    v_mean = np.mean(hsv_image[:, :, 2])\n",
    "\n",
    "    # Create feature array\n",
    "    X = np.array([h_mean, s_mean, v_mean])\n",
    "\n",
    "    return X"
   ]
  },
  {
   "cell_type": "code",
   "execution_count": 71,
   "metadata": {},
   "outputs": [],
   "source": [
    "# Define function for prediction\n",
    "def classify(image_path):\n",
    "    # Preprocess image and extract features\n",
    "    X = preprocess_and_extract_features(image_path)\n",
    "\n",
    "    # Reshape feature array\n",
    "    X_reshaped = X.reshape(1, -1)\n",
    "\n",
    "    # Create dataframe with feature names\n",
    "    feature_names = ['H', 'S', 'V']\n",
    "    X_new = pd.DataFrame(data=X_reshaped, columns=feature_names)\n",
    "\n",
    "    # Predict label\n",
    "    y_pred = nb.predict(X_new)\n",
    "\n",
    "    # Print label\n",
    "    print(f'Label: {y_pred[0]}')"
   ]
  },
  {
   "cell_type": "code",
   "execution_count": 72,
   "metadata": {},
   "outputs": [
    {
     "name": "stdout",
     "output_type": "stream",
     "text": [
      "Label: 3\n"
     ]
    }
   ],
   "source": [
    "# Example\n",
    "image_path = '../Test_Data/test_image_2.jpg'\n",
    "classify(image_path)\n"
   ]
  }
 ],
 "metadata": {
  "kernelspec": {
   "display_name": "Python 3",
   "language": "python",
   "name": "python3"
  },
  "language_info": {
   "codemirror_mode": {
    "name": "ipython",
    "version": 3
   },
   "file_extension": ".py",
   "mimetype": "text/x-python",
   "name": "python",
   "nbconvert_exporter": "python",
   "pygments_lexer": "ipython3",
   "version": "3.10.10"
  },
  "orig_nbformat": 4
 },
 "nbformat": 4,
 "nbformat_minor": 2
}
