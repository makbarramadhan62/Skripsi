{
 "cells": [
  {
   "cell_type": "code",
   "execution_count": 31,
   "metadata": {},
   "outputs": [],
   "source": [
    "import cv2\n",
    "import numpy as np\n",
    "import pandas as pd\n",
    "import joblib"
   ]
  },
  {
   "cell_type": "code",
   "execution_count": 32,
   "metadata": {},
   "outputs": [],
   "source": [
    "def preprocessing(image):\n",
    "    \n",
    "    # inisialisasi ukuran resize\n",
    "    width, height = 1080, 1920\n",
    "\n",
    "    # melakukan resize pada file\n",
    "    image = cv2.resize(image, (width, height),\n",
    "                    interpolation=cv2.INTER_AREA)\n",
    "    # melakukan cropping pada file\n",
    "    image = image[420:1500, 0:1080]\n",
    "    \n",
    "    return image\n"
   ]
  },
  {
   "cell_type": "code",
   "execution_count": 33,
   "metadata": {},
   "outputs": [],
   "source": [
    "def extract_features(preprocessed_image):\n",
    "\n",
    "    # mengubah gambar ke dalam format HSV\n",
    "    hsv = cv2.cvtColor(preprocessed_image, cv2.COLOR_BGR2HSV)\n",
    "\n",
    "    # mengambil nilai hue (H) dari gambar\n",
    "    hue = hsv[:, :, 0]\n",
    "\n",
    "    # mengambil nilai saturation (S) dari gambar\n",
    "    saturation = hsv[:, :, 1]\n",
    "\n",
    "    # mengambil nilai value (V) dari gambar\n",
    "    value = hsv[:, :, 2]\n",
    "\n",
    "    # membuat list untuk menyimpan hasil ekstraksi fitur\n",
    "    features = []\n",
    "\n",
    "    # menambahkan nilai H ke dalam list\n",
    "    features.append(np.mean(hue))\n",
    "\n",
    "    # menambahkan nilai S ke dalam list\n",
    "    features.append(np.mean(saturation))\n",
    "\n",
    "    # menambahkan nilai V ke dalam list\n",
    "    features.append(np.mean(value))\n",
    "\n",
    "    return features\n"
   ]
  },
  {
   "cell_type": "code",
   "execution_count": 34,
   "metadata": {},
   "outputs": [],
   "source": [
    "from sklearn.metrics import accuracy_score, classification_report\n",
    "\n",
    "\n",
    "def classify(image):\n",
    "    # Load pre-trained model\n",
    "    nb = joblib.load('../Model/NaiveBayes4.pkl')\n",
    "    \n",
    "    image = cv2.imread(image)\n",
    "    \n",
    "    # Preprocess image\n",
    "    img_array = preprocessing(image)\n",
    "    \n",
    "    # Extract features\n",
    "    X = extract_features(img_array)\n",
    "    \n",
    "    # Get feature names from model\n",
    "    feature_names = nb.named_steps['pca'].get_feature_names_out()\n",
    "    \n",
    "    # Convert feature extraction result to DataFrame\n",
    "    X_new = pd.DataFrame(data=X, columns=feature_names)\n",
    "    \n",
    "    # Predict label\n",
    "    y_pred = nb.predict([X_new])\n",
    "    \n",
    "    # Print label\n",
    "    print(f'Label: {y_pred[0]}')\n",
    "    \n",
    "    # # Load true label\n",
    "    # df = pd.read_csv('../csv/hasil_ekstraksi_rata2_hsv.csv')\n",
    "    # y_true = df['label']\n",
    "    \n",
    "    # # Print accuracy and precision\n",
    "    # print(classification_report(y_true, y_pred))\n",
    "    # print(f'Accuracy: {accuracy_score(y_true, y_pred)}')"
   ]
  },
  {
   "cell_type": "code",
   "execution_count": 35,
   "metadata": {},
   "outputs": [
    {
     "ename": "ValueError",
     "evalue": "Shape of passed values is (3, 1), indices imply (3, 2)",
     "output_type": "error",
     "traceback": [
      "\u001b[1;31m---------------------------------------------------------------------------\u001b[0m",
      "\u001b[1;31mValueError\u001b[0m                                Traceback (most recent call last)",
      "\u001b[1;32md:\\Skripsi\\Build Apps\\skripsi_app_backend\\Code\\Classification\\FInalClassification2.ipynb Cell 5\u001b[0m in \u001b[0;36m<cell line: 2>\u001b[1;34m()\u001b[0m\n\u001b[0;32m      <a href='vscode-notebook-cell:/d%3A/Skripsi/Build%20Apps/skripsi_app_backend/Code/Classification/FInalClassification2.ipynb#W4sZmlsZQ%3D%3D?line=0'>1</a>\u001b[0m \u001b[39m# Call classify function with image path\u001b[39;00m\n\u001b[1;32m----> <a href='vscode-notebook-cell:/d%3A/Skripsi/Build%20Apps/skripsi_app_backend/Code/Classification/FInalClassification2.ipynb#W4sZmlsZQ%3D%3D?line=1'>2</a>\u001b[0m classify(\u001b[39m'\u001b[39;49m\u001b[39m../hama_tungau (17).jpg\u001b[39;49m\u001b[39m'\u001b[39;49m)\n",
      "\u001b[1;32md:\\Skripsi\\Build Apps\\skripsi_app_backend\\Code\\Classification\\FInalClassification2.ipynb Cell 5\u001b[0m in \u001b[0;36mclassify\u001b[1;34m(image)\u001b[0m\n\u001b[0;32m     <a href='vscode-notebook-cell:/d%3A/Skripsi/Build%20Apps/skripsi_app_backend/Code/Classification/FInalClassification2.ipynb#W4sZmlsZQ%3D%3D?line=16'>17</a>\u001b[0m feature_names \u001b[39m=\u001b[39m nb\u001b[39m.\u001b[39mnamed_steps[\u001b[39m'\u001b[39m\u001b[39mpca\u001b[39m\u001b[39m'\u001b[39m]\u001b[39m.\u001b[39mget_feature_names_out()\n\u001b[0;32m     <a href='vscode-notebook-cell:/d%3A/Skripsi/Build%20Apps/skripsi_app_backend/Code/Classification/FInalClassification2.ipynb#W4sZmlsZQ%3D%3D?line=18'>19</a>\u001b[0m \u001b[39m# Convert feature extraction result to DataFrame\u001b[39;00m\n\u001b[1;32m---> <a href='vscode-notebook-cell:/d%3A/Skripsi/Build%20Apps/skripsi_app_backend/Code/Classification/FInalClassification2.ipynb#W4sZmlsZQ%3D%3D?line=19'>20</a>\u001b[0m X_new \u001b[39m=\u001b[39m pd\u001b[39m.\u001b[39;49mDataFrame(data\u001b[39m=\u001b[39;49mX, columns\u001b[39m=\u001b[39;49mfeature_names)\n\u001b[0;32m     <a href='vscode-notebook-cell:/d%3A/Skripsi/Build%20Apps/skripsi_app_backend/Code/Classification/FInalClassification2.ipynb#W4sZmlsZQ%3D%3D?line=21'>22</a>\u001b[0m \u001b[39m# Predict label\u001b[39;00m\n\u001b[0;32m     <a href='vscode-notebook-cell:/d%3A/Skripsi/Build%20Apps/skripsi_app_backend/Code/Classification/FInalClassification2.ipynb#W4sZmlsZQ%3D%3D?line=22'>23</a>\u001b[0m y_pred \u001b[39m=\u001b[39m nb\u001b[39m.\u001b[39mpredict([X_new])\n",
      "File \u001b[1;32m~\\AppData\\Local\\Packages\\PythonSoftwareFoundation.Python.3.10_qbz5n2kfra8p0\\LocalCache\\local-packages\\Python310\\site-packages\\pandas\\core\\frame.py:737\u001b[0m, in \u001b[0;36mDataFrame.__init__\u001b[1;34m(self, data, index, columns, dtype, copy)\u001b[0m\n\u001b[0;32m    729\u001b[0m         mgr \u001b[39m=\u001b[39m arrays_to_mgr(\n\u001b[0;32m    730\u001b[0m             arrays,\n\u001b[0;32m    731\u001b[0m             columns,\n\u001b[1;32m   (...)\u001b[0m\n\u001b[0;32m    734\u001b[0m             typ\u001b[39m=\u001b[39mmanager,\n\u001b[0;32m    735\u001b[0m         )\n\u001b[0;32m    736\u001b[0m     \u001b[39melse\u001b[39;00m:\n\u001b[1;32m--> 737\u001b[0m         mgr \u001b[39m=\u001b[39m ndarray_to_mgr(\n\u001b[0;32m    738\u001b[0m             data,\n\u001b[0;32m    739\u001b[0m             index,\n\u001b[0;32m    740\u001b[0m             columns,\n\u001b[0;32m    741\u001b[0m             dtype\u001b[39m=\u001b[39;49mdtype,\n\u001b[0;32m    742\u001b[0m             copy\u001b[39m=\u001b[39;49mcopy,\n\u001b[0;32m    743\u001b[0m             typ\u001b[39m=\u001b[39;49mmanager,\n\u001b[0;32m    744\u001b[0m         )\n\u001b[0;32m    745\u001b[0m \u001b[39melse\u001b[39;00m:\n\u001b[0;32m    746\u001b[0m     mgr \u001b[39m=\u001b[39m dict_to_mgr(\n\u001b[0;32m    747\u001b[0m         {},\n\u001b[0;32m    748\u001b[0m         index,\n\u001b[1;32m   (...)\u001b[0m\n\u001b[0;32m    751\u001b[0m         typ\u001b[39m=\u001b[39mmanager,\n\u001b[0;32m    752\u001b[0m     )\n",
      "File \u001b[1;32m~\\AppData\\Local\\Packages\\PythonSoftwareFoundation.Python.3.10_qbz5n2kfra8p0\\LocalCache\\local-packages\\Python310\\site-packages\\pandas\\core\\internals\\construction.py:351\u001b[0m, in \u001b[0;36mndarray_to_mgr\u001b[1;34m(values, index, columns, dtype, copy, typ)\u001b[0m\n\u001b[0;32m    346\u001b[0m \u001b[39m# _prep_ndarray ensures that values.ndim == 2 at this point\u001b[39;00m\n\u001b[0;32m    347\u001b[0m index, columns \u001b[39m=\u001b[39m _get_axes(\n\u001b[0;32m    348\u001b[0m     values\u001b[39m.\u001b[39mshape[\u001b[39m0\u001b[39m], values\u001b[39m.\u001b[39mshape[\u001b[39m1\u001b[39m], index\u001b[39m=\u001b[39mindex, columns\u001b[39m=\u001b[39mcolumns\n\u001b[0;32m    349\u001b[0m )\n\u001b[1;32m--> 351\u001b[0m _check_values_indices_shape_match(values, index, columns)\n\u001b[0;32m    353\u001b[0m \u001b[39mif\u001b[39;00m typ \u001b[39m==\u001b[39m \u001b[39m\"\u001b[39m\u001b[39marray\u001b[39m\u001b[39m\"\u001b[39m:\n\u001b[0;32m    355\u001b[0m     \u001b[39mif\u001b[39;00m \u001b[39missubclass\u001b[39m(values\u001b[39m.\u001b[39mdtype\u001b[39m.\u001b[39mtype, \u001b[39mstr\u001b[39m):\n",
      "File \u001b[1;32m~\\AppData\\Local\\Packages\\PythonSoftwareFoundation.Python.3.10_qbz5n2kfra8p0\\LocalCache\\local-packages\\Python310\\site-packages\\pandas\\core\\internals\\construction.py:422\u001b[0m, in \u001b[0;36m_check_values_indices_shape_match\u001b[1;34m(values, index, columns)\u001b[0m\n\u001b[0;32m    420\u001b[0m passed \u001b[39m=\u001b[39m values\u001b[39m.\u001b[39mshape\n\u001b[0;32m    421\u001b[0m implied \u001b[39m=\u001b[39m (\u001b[39mlen\u001b[39m(index), \u001b[39mlen\u001b[39m(columns))\n\u001b[1;32m--> 422\u001b[0m \u001b[39mraise\u001b[39;00m \u001b[39mValueError\u001b[39;00m(\u001b[39mf\u001b[39m\u001b[39m\"\u001b[39m\u001b[39mShape of passed values is \u001b[39m\u001b[39m{\u001b[39;00mpassed\u001b[39m}\u001b[39;00m\u001b[39m, indices imply \u001b[39m\u001b[39m{\u001b[39;00mimplied\u001b[39m}\u001b[39;00m\u001b[39m\"\u001b[39m)\n",
      "\u001b[1;31mValueError\u001b[0m: Shape of passed values is (3, 1), indices imply (3, 2)"
     ]
    }
   ],
   "source": [
    "# Call classify function with image path\n",
    "classify('../hama_tungau (17).jpg')"
   ]
  }
 ],
 "metadata": {
  "kernelspec": {
   "display_name": "Python 3",
   "language": "python",
   "name": "python3"
  },
  "language_info": {
   "codemirror_mode": {
    "name": "ipython",
    "version": 3
   },
   "file_extension": ".py",
   "mimetype": "text/x-python",
   "name": "python",
   "nbconvert_exporter": "python",
   "pygments_lexer": "ipython3",
   "version": "3.10.10"
  },
  "orig_nbformat": 4,
  "vscode": {
   "interpreter": {
    "hash": "366a4f848469d28a32ae9de383029dd12ac0cf9e43f1d301e9bcc00748ebef1b"
   }
  }
 },
 "nbformat": 4,
 "nbformat_minor": 2
}
