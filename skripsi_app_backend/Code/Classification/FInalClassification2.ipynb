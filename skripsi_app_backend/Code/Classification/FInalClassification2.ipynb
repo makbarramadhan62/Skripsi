{
 "cells": [
  {
   "cell_type": "code",
   "execution_count": 1,
   "metadata": {},
   "outputs": [],
   "source": [
    "import cv2\n",
    "import joblib\n",
    "import numpy as np\n",
    "import pandas as pd"
   ]
  },
  {
   "cell_type": "code",
   "execution_count": 2,
   "metadata": {},
   "outputs": [],
   "source": [
    "# Load model\n",
    "nb = joblib.load('../Model/NB_HSV.pkl')"
   ]
  },
  {
   "cell_type": "code",
   "execution_count": 3,
   "metadata": {},
   "outputs": [],
   "source": [
    "def preprocess_and_extract_features(image_path):\n",
    "    # Load image\n",
    "    image = cv2.imread(image_path)\n",
    "\n",
    "    # Crop image to square\n",
    "    height, width, channels = image.shape\n",
    "    if height > width:\n",
    "        crop_size = width\n",
    "        y = int((height - width) / 2)\n",
    "        x = 0\n",
    "    else:\n",
    "        crop_size = height\n",
    "        x = int((width - height) / 2)\n",
    "        y = 0\n",
    "    cropped_image = image[y:y+crop_size, x:x+crop_size]\n",
    "\n",
    "    # Resize image\n",
    "    resized_image = cv2.resize(cropped_image, (1080, 1080))\n",
    "\n",
    "    # Convert image to HSV \n",
    "    hsv_image = cv2.cvtColor(resized_image, cv2.COLOR_BGR2HSV)\n",
    "\n",
    "    # Perhitungan rata rata hsv\n",
    "    h_mean = np.mean(hsv_image[:, :, 0])\n",
    "    s_mean = np.mean(hsv_image[:, :, 1])\n",
    "    v_mean = np.mean(hsv_image[:, :, 2])\n",
    "\n",
    "    # Create feature array\n",
    "    X = np.array([h_mean, s_mean, v_mean])\n",
    "\n",
    "    return X"
   ]
  },
  {
   "cell_type": "code",
   "execution_count": 4,
   "metadata": {},
   "outputs": [],
   "source": [
    "def classify(image_path):\n",
    "    # Melakukan pre processing dan ekstraksi fitur\n",
    "    X = preprocess_and_extract_features(image_path)\n",
    "\n",
    "    # Mengubah bentuk array\n",
    "    X_reshaped = X.reshape(1, -1)\n",
    "\n",
    "    # Membuat dataframe menggunakan nama fitur\n",
    "    feature_names = ['H', 'S', 'V']\n",
    "    X_new = pd.DataFrame(data=X_reshaped, columns=feature_names)\n",
    "\n",
    "    # Predict label\n",
    "    y_pred = nb.predict(X_new)\n",
    "\n",
    "    # Print label\n",
    "    print(f'Label: {y_pred[0]}')"
   ]
  },
  {
   "cell_type": "code",
   "execution_count": 5,
   "metadata": {},
   "outputs": [
    {
     "name": "stdout",
     "output_type": "stream",
     "text": [
      "Label: 5\n"
     ]
    }
   ],
   "source": [
    "# Contoh\n",
    "image_path = '../Test_Data/hama_tungau (40).jpg'\n",
    "classify(image_path)\n"
   ]
  }
 ],
 "metadata": {
  "kernelspec": {
   "display_name": "Python 3",
   "language": "python",
   "name": "python3"
  },
  "language_info": {
   "codemirror_mode": {
    "name": "ipython",
    "version": 3
   },
   "file_extension": ".py",
   "mimetype": "text/x-python",
   "name": "python",
   "nbconvert_exporter": "python",
   "pygments_lexer": "ipython3",
   "version": "3.10.11"
  },
  "orig_nbformat": 4
 },
 "nbformat": 4,
 "nbformat_minor": 2
}
