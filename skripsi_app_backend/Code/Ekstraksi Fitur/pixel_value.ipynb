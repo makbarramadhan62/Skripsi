{
 "cells": [
  {
   "cell_type": "code",
   "execution_count": 1,
   "metadata": {},
   "outputs": [],
   "source": [
    "import cv2\n",
    "import pandas as pd\n",
    "from tabulate import tabulate\n",
    "\n",
    "# Baca gambar\n",
    "image = cv2.imread('../Dataset/preprocessed_roi_augmentation/5_label/dataset_training/daun_sehat/data ke-1.jpg',cv2.IMREAD_GRAYSCALE)\n",
    "\n",
    "# Mendapatkan dimensi gambar\n",
    "height, width = image.shape\n",
    "\n",
    "# Tambahkan indeks x pada bagian atas tabel\n",
    "header = [' '] + [f'{x}' for x in range(width)]\n",
    "table_data = [header]\n",
    "\n",
    "# Tambahkan baris dengan nilai abu-abu dan indeks y pada setiap piksel\n",
    "for y in range(height):\n",
    "    row = [f'{y}'] + [f'{image[y, x]}' for x in range(width)]\n",
    "    table_data.append(row)\n",
    "\n",
    "# Format tabel menggunakan tabulate\n",
    "table = tabulate(table_data, headers='firstrow', tablefmt='grid')\n",
    "\n",
    "# Tampilkan tabel\n",
    "# print(table)\n",
    "\n",
    "# Simpan tabel sebagai file CSV\n",
    "df = pd.DataFrame(table_data[1:], columns=table_data[0])\n",
    "df.to_csv('matrix_glcm2.csv', index=False)\n"
   ]
  }
 ],
 "metadata": {
  "kernelspec": {
   "display_name": "Python 3",
   "language": "python",
   "name": "python3"
  },
  "language_info": {
   "codemirror_mode": {
    "name": "ipython",
    "version": 3
   },
   "file_extension": ".py",
   "mimetype": "text/x-python",
   "name": "python",
   "nbconvert_exporter": "python",
   "pygments_lexer": "ipython3",
   "version": "3.10.11"
  },
  "orig_nbformat": 4
 },
 "nbformat": 4,
 "nbformat_minor": 2
}
